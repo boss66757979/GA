{
 "cells": [
  {
   "cell_type": "code",
   "execution_count": 1,
   "metadata": {
    "pycharm": {
     "is_executing": false
    }
   },
   "outputs": [],
   "source": [
    "%matplotlib inline\n",
    "\n",
    "import matplotlib.pyplot as plt\n",
    "import matplotlib\n",
    "import numpy as np\n",
    "import pandas as pd\n",
    "# 动态显示\n",
    "from IPython import display"
   ]
  },
  {
   "cell_type": "code",
   "execution_count": 2,
   "metadata": {
    "pycharm": {
     "is_executing": false
    }
   },
   "outputs": [],
   "source": [
    "# GA类方法定义\n",
    "class GA (object) :\n",
    "    # 初始化种群\n",
    "    \"\"\"\n",
    "    nums = [[50,150,250,...],[...]]\n",
    "    bound = [[0,100],[100,200],[200,300]...]\n",
    "    pop = [[[1,0,1,0...],[1,0,1,0...]...],[...]]\n",
    "    func = x*sin(10*pi*x)+2 ;x = [-1:0.1:2]\n",
    "    \"\"\"\n",
    "    def __init__(self,nums,bound,func,DNA_SIZE=None,cross_rate=0.8,mutation=0.001):\n",
    "        self.cross_rate = cross_rate\n",
    "        self.mutation = mutation\n",
    "        self.var_min = [x[0] for x in bound]\n",
    "        self.var_len = [x[1]-x[0] for x in bound]\n",
    "        self.nums = nums\n",
    "        self.DNA_SIZE = DNA_SIZE\n",
    "        self.func = func\n",
    "        self.bound = bound\n",
    "        POP_SIZE = len(nums)\n",
    "        if DNA_SIZE is None:\n",
    "            DNA_SIZE = np.ceil(np.log2(np.max(self.var_len) + 1))\n",
    "            \n",
    "        pop = np.zeros([np.shape(nums)[0],np.shape(nums)[1]])\n",
    "        pop = [[\"\" for _ in range(np.shape(nums)[1])] for _ in range(np.shape(nums)[0])]\n",
    "        for ind_n,num in enumerate(nums):\n",
    "            for ind_d,DNA in enumerate(num):\n",
    "                DNA = int((DNA - self.var_min[ind_d]) * (2**DNA_SIZE/self.var_len[ind_d]))\n",
    "                pop[ind_n][ind_d] = ('{0:0'+str(DNA_SIZE)+'b}').format(DNA)\n",
    "        pop = np.array(pop)\n",
    "        self.pop = np.array(pop)\n",
    "        self.pop_copy = pop.copy()\n",
    "        \n",
    "    \"\"\"DNA翻译\"\"\"\n",
    "    def translate_DNA(self):\n",
    "        nums = np.zeros(np.shape(self.pop))\n",
    "        for ind_n,num in enumerate(self.pop):\n",
    "            for ind_d,DNA in enumerate(num):\n",
    "                w_matrix = [int(2**x) for x in range(self.DNA_SIZE-1,-1,-1)]\n",
    "                DNA = [int(num) for num in list(DNA)]\n",
    "                DNA = np.dot(DNA,w_matrix)\n",
    "                DNA = DNA * (self.var_len[ind_d]/(2**self.DNA_SIZE)) + self.var_min[ind_d]\n",
    "                nums[ind_n,ind_d] = DNA\n",
    "        self.nums = nums\n",
    "    \n",
    "    \"\"\"适应度评估\"\"\"\n",
    "    def evaluate_fitness(self,non_negative=False):\n",
    "        self.fitness = np.sum(self.func(self.nums),axis=1)\n",
    "        if non_negative:\n",
    "#             for ind_b,buf in enumerate(self.fitness):\n",
    "#                 for ind_x,x in enumerate(buf):\n",
    "#                     if x < 0:\n",
    "#                         self.fitness[ind_b,ind_x] = 0;\n",
    "            self.fitness = [x if x>=0 else 0 for x in self.fitness]\n",
    "    \n",
    "    \"\"\"自然选择\"\"\"          \n",
    "    def nature_select(self):\n",
    "        self.evaluate_fitness(True)\n",
    "        self.pop = self.pop[np.random.choice(np.arange(np.shape(self.pop)[0]),size=np.shape(self.nums)[0],\n",
    "                                    replace=True,p=self.fitness/np.sum(self.fitness))]\n",
    "    \"\"\"基因交叉\"\"\"\n",
    "    def genetic_cross(self):\n",
    "        for i,sigel_pop in enumerate(self.pop):\n",
    "            for j,chromosome in enumerate(sigel_pop):\n",
    "                if np.random.rand() < self.cross_rate:\n",
    "                    _i = np.random.randint(np.shape(self.pop)[0],size=1)\n",
    "                    _j = np.random.randint(np.shape(sigel_pop)[0],size=1)\n",
    "                    cross_point = np.random.randint(2,size=self.DNA_SIZE).astype(np.bool)\n",
    "                    pop_buf = np.reshape(np.array([int(x) for x in list(self.pop[i,j])]),(self.DNA_SIZE,1))\n",
    "                    cross_buf = np.reshape(np.array([int(y) for y in list(self.pop[_i[0],_j[0]])]),(self.DNA_SIZE,1))\n",
    "#                     print(pop_buf[cross_point],cross_point)\n",
    "                    pop_buf[cross_point] = cross_buf[cross_point]\n",
    "                    pop_buf = \"\".join([str(x[0]) for x in pop_buf.tolist()])\n",
    "                    self.pop[i,j] = pop_buf\n",
    "            \n",
    "    \"\"\"基因突变\"\"\"                \n",
    "    def genetic_mutate(self):\n",
    "        for i,sigel_pop in enumerate(self.pop):\n",
    "            for j,chromosome in enumerate(sigel_pop):\n",
    "                for k in range(self.DNA_SIZE):\n",
    "                    if np.random.rand() < self.mutation:\n",
    "                        pop_buf = np.reshape(np.array([int(x) for x in list(self.pop[i,j])]),(self.DNA_SIZE,1))\n",
    "                        pop_buf[k] = 0 if pop_buf[k] == 1 else 0\n",
    "                        pop_buf = \"\".join([str(x[0]) for x in pop_buf.tolist()])\n",
    "                        self.pop[i,j] = pop_buf\n",
    "    \"\"\"整体进化\"\"\"\n",
    "    def evolution(self):\n",
    "        self.nature_select()\n",
    "        self.genetic_cross()\n",
    "        self.genetic_mutate()\n",
    "        \n",
    "    \"\"\"复位操作\"\"\"\n",
    "    def reset(self):\n",
    "        self.pop = self.pop_copy\n",
    "            \n",
    "    \"\"\"日志记录\"\"\"\n",
    "    def log(self):\n",
    "        return pd.DataFrame(self.fitness,\n",
    "                            columns=['F'])\n",
    "    \n",
    "    \"\"\"动态显示进化过程\"\"\"\n",
    "    def show_once(self,iter_time=200):\n",
    "        is_ipython = \"inline\" in matplotlib.get_backend()\n",
    "        if is_ipython:\n",
    "            from IPython import display\n",
    "            \n",
    "        for _ in range(iter_time):\n",
    "            x = np.linspace(self.bound[0][0],self.bound[0][1])\n",
    "            plt.plot(x,self.func(x))\n",
    "            x = [par[0] for par in self.nums]\n",
    "            plt.scatter(x,self.func(x),s=200,marker=\".\",lw=0,c=\"r\")\n",
    "            \n",
    "            if is_ipython:\n",
    "                display.clear_output(wait=True)\n",
    "                display.display(plt.gcf())\n",
    "                \n",
    "        self.evolution()"
   ]
  },
  {
   "cell_type": "code",
   "execution_count": null,
   "metadata": {
    "scrolled": false,
    "pycharm": {
     "is_executing": true
    }
   },
   "outputs": [],
   "source": [
    "if __name__ == \"__main__\":\n",
    "    func = lambda X : np.multiply(X,np.sin(np.multiply(np.pi*10,X))) + 2\n",
    "    ga = GA([[np.random.rand()*5] for _ in range(100)],[[-1\n",
    "                                                         ,5]],func=func,DNA_SIZE=10)\n",
    "#     ga.translate_DNA()\n",
    "#     print(ga.nums[:10])\n",
    "#     print(ga.translate_DNA())\n",
    "#     ga.evaluate_fitness(True)\n",
    "#     print(ga.fitness)\n",
    "#     print(np.transpose(ga.pop))#     ga.nature_select()\n",
    "#     print(np.transpose(np.unique(ga.pop[:,0]))) \n",
    "#     ga.genetic_cross()\n",
    "#     ga.genetic_mutate()\n",
    "#     print(np.unique(ga.pop[:,0]))\n",
    "#     print(ga.log().head(6))\n",
    "    ga.show_once()"
   ]
  },
  {
   "cell_type": "code",
   "execution_count": null,
   "metadata": {
    "pycharm": {
     "is_executing": true
    }
   },
   "outputs": [],
   "source": []
  }
 ],
 "metadata": {
  "kernelspec": {
   "name": "pycharm-352a56c2",
   "language": "python",
   "display_name": "PyCharm (GA)"
  },
  "language_info": {
   "codemirror_mode": {
    "name": "ipython",
    "version": 3
   },
   "file_extension": ".py",
   "mimetype": "text/x-python",
   "name": "python",
   "nbconvert_exporter": "python",
   "pygments_lexer": "ipython3",
   "version": "3.6.5"
  },
  "pycharm": {
   "stem_cell": {
    "cell_type": "raw",
    "source": [],
    "metadata": {
     "collapsed": false
    }
   }
  }
 },
 "nbformat": 4,
 "nbformat_minor": 2
}